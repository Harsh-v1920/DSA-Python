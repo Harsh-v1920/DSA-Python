{
 "cells": [
  {
   "cell_type": "code",
   "execution_count": null,
   "metadata": {},
   "outputs": [],
   "source": [
    "def getNthFromLast(head,n):\n",
    "    #code here\n",
    "    count=0\n",
    "    i=head\n",
    "    while i.next!=None:\n",
    "        count+=1\n",
    "        i=i.next\n",
    "    # print(count)\n",
    "    if count+1<n:\n",
    "        return -1\n",
    "    j=0\n",
    "    \n",
    "    i=head\n",
    "    while j<=count-n:\n",
    "        i=i.next\n",
    "        j+=1\n",
    "    return (i.data)"
   ]
  }
 ],
 "metadata": {
  "language_info": {
   "name": "python"
  },
  "orig_nbformat": 4
 },
 "nbformat": 4,
 "nbformat_minor": 2
}
