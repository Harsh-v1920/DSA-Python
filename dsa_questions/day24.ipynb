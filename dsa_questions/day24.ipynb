{
 "cells": [
  {
   "cell_type": "code",
   "execution_count": null,
   "metadata": {},
   "outputs": [],
   "source": [
    "#Index of first 1 in the sorted array of 0s and 1s\n",
    "#Geeks for geeks\n",
    "\n",
    "class Solution:\n",
    "    def firstIndex(self, arr, n):\n",
    "    # Your code goes here\n",
    "        if 1 in arr:\n",
    "            return arr.index(1)\n",
    "        return -1\n",
    "\n",
    "\n"
   ]
  }
 ],
 "metadata": {
  "language_info": {
   "name": "python"
  },
  "orig_nbformat": 4
 },
 "nbformat": 4,
 "nbformat_minor": 2
}
