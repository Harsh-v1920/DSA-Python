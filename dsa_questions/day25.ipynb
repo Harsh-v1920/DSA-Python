{
 "cells": [
  {
   "cell_type": "code",
   "execution_count": null,
   "metadata": {},
   "outputs": [],
   "source": [
    "#Day 25 Problems\n",
    "#Balanced Array\n",
    "#Geeks for Geeks\n",
    "\n",
    "class Solution:\n",
    "    def minValueToBalance(self,a,n):\n",
    "        #code here.\n",
    "        left_sum=0\n",
    "        right_sum=0\n",
    "        for i in range(n):\n",
    "            if i<=n//2-1:\n",
    "                left_sum+=a[i]\n",
    "            else:\n",
    "                right_sum+=a[i]\n",
    "        return (abs(left_sum-right_sum))\n"
   ]
  }
 ],
 "metadata": {
  "language_info": {
   "name": "python"
  },
  "orig_nbformat": 4
 },
 "nbformat": 4,
 "nbformat_minor": 2
}
