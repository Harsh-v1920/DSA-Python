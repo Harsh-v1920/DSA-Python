{
 "cells": [
  {
   "cell_type": "code",
   "execution_count": null,
   "metadata": {},
   "outputs": [],
   "source": [
    "#Day 21 Product of array\n",
    "# Geeks for Geeks\n",
    "\n",
    "def product(arr,n,mod):\n",
    "    # your code here\n",
    "    product=1\n",
    "    for i in arr:\n",
    "        product*=i\n",
    "    return product%mod"
   ]
  }
 ],
 "metadata": {
  "language_info": {
   "name": "python"
  },
  "orig_nbformat": 4
 },
 "nbformat": 4,
 "nbformat_minor": 2
}
