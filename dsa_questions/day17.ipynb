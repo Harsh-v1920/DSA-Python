{
 "cells": [
  {
   "cell_type": "code",
   "execution_count": null,
   "metadata": {},
   "outputs": [],
   "source": [
    "# Day 17 Find occurance of an element \n",
    "#Geeks for Geeks\n",
    "\n",
    "class Solution:\n",
    "\n",
    "\tdef count(self,arr, n, x):\n",
    "\t\t# code here\n",
    "\t\tcount=0\n",
    "\t\tfor i in arr:\n",
    "\t\t    if i==x:\n",
    "\t\t        count+=1\n",
    "\t\treturn count\n"
   ]
  }
 ],
 "metadata": {
  "language_info": {
   "name": "python"
  },
  "orig_nbformat": 4
 },
 "nbformat": 4,
 "nbformat_minor": 2
}
