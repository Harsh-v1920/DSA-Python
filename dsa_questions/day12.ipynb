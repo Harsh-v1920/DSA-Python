{
 "cells": [
  {
   "cell_type": "code",
   "execution_count": null,
   "metadata": {},
   "outputs": [],
   "source": [
    "#Day 12 First element to occur k times\n",
    "# Geeks for Geeks\n",
    "\n",
    "\n",
    "class Solution:\n",
    "    def firstElementKTime(self,  a, n, k):\n",
    "        # code here\n",
    "        hashmap={}\n",
    "        for key in a:\n",
    "            if key not in hashmap:\n",
    "                hashmap[key]=1\n",
    "                \n",
    "            else:\n",
    "                hashmap[key]+=1\n",
    "            if hashmap[key]>=k:\n",
    "                return key\n",
    "        for key in a:\n",
    "            if hashmap[key]>=k:\n",
    "                return key\n",
    "        \n",
    "        return -1\n",
    "    "
   ]
  }
 ],
 "metadata": {
  "language_info": {
   "name": "python"
  },
  "orig_nbformat": 4
 },
 "nbformat": 4,
 "nbformat_minor": 2
}
