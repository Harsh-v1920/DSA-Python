{
 "cells": [
  {
   "cell_type": "code",
   "execution_count": null,
   "metadata": {},
   "outputs": [],
   "source": [
    "#Geeks for Geeks IPL 2021 :Match Day 2\n",
    "#Subarray with maximum sum\n",
    "class Solution:\n",
    "    def max_of_subarrays(self,arr,n,k):\n",
    "        '''\n",
    "        you can use collections module here.\n",
    "        :param a: given array\n",
    "        :param n: size of array\n",
    "        :param k: value of k\n",
    "        :return: A list of required values \n",
    "        '''\n",
    "        #code here\n",
    "        i,j=0,0\n",
    "        lst,ans=[],[]\n",
    "        while j<n:\n",
    "            while len(lst)>0 and lst[-1]<arr[j]:\n",
    "                lst.pop()\n",
    "            lst.append(arr[j])\n",
    "            if j-i+1<k:\n",
    "                j+=1\n",
    "            elif j-i+1==k:\n",
    "                ans.append(lst[0])\n",
    "                if len(lst)>0 and lst[0]==arr[i]:\n",
    "                    lst.remove(arr[i])\n",
    "                i+=1\n",
    "                j+=1\n",
    "        return ans\n"
   ]
  }
 ],
 "metadata": {
  "language_info": {
   "name": "python"
  },
  "orig_nbformat": 4
 },
 "nbformat": 4,
 "nbformat_minor": 2
}
