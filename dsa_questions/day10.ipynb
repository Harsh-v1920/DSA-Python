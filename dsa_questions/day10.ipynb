{
 "cells": [
  {
   "cell_type": "code",
   "execution_count": null,
   "metadata": {},
   "outputs": [],
   "source": [
    "#Day 10 Third largest element \n",
    "#Geeks for Geeks\n",
    "\n",
    "class Solution:\n",
    "    def thirdLargest(self,a, n):\n",
    "        # code here\n",
    "        a.sort()\n",
    "        return a[-3]"
   ]
  }
 ],
 "metadata": {
  "language_info": {
   "name": "python"
  },
  "orig_nbformat": 4
 },
 "nbformat": 4,
 "nbformat_minor": 2
}
