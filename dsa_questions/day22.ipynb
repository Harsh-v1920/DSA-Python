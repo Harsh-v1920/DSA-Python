{
 "cells": [
  {
   "cell_type": "code",
   "execution_count": null,
   "metadata": {},
   "outputs": [],
   "source": [
    "#Rotating an array counter clockwise direction\n",
    "# Geeks for geeks\n",
    "\n",
    "def leftRotate(self, arr, n, d):\n",
    "    # code here\n",
    "    i=0\n",
    "    j=d-1\n",
    "    while i<=j:\n",
    "        arr[i],arr[j]=arr[j],arr[i]\n",
    "        i+=1\n",
    "        j-=1\n",
    "    \n",
    "    i=d\n",
    "    j=n-1\n",
    "    while i<=j:\n",
    "        arr[i],arr[j]=arr[j],arr[i]\n",
    "        i+=1\n",
    "        j-=1\n",
    "        \n",
    "    i=0\n",
    "    j=n-1\n",
    "    while i<=j:\n",
    "        arr[i],arr[j]=arr[j],arr[i]\n",
    "        i+=1\n",
    "        j-=1"
   ]
  }
 ],
 "metadata": {
  "language_info": {
   "name": "python"
  },
  "orig_nbformat": 4
 },
 "nbformat": 4,
 "nbformat_minor": 2
}
