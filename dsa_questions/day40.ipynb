{
 "cells": [
  {
   "cell_type": "code",
   "execution_count": null,
   "metadata": {},
   "outputs": [],
   "source": [
    "#Find number of pair with given sum\n",
    "\n",
    "\n",
    "class Solution:\n",
    "    def Countpair (self, arr, n, sum) : \n",
    "        #Complete the function\n",
    "        flag=True\n",
    "        low=0\n",
    "        high=n-1\n",
    "        c=0\n",
    "        while low<high:\n",
    "            if arr[low]+arr[high]==sum:\n",
    "                flag=False\n",
    "                c+=1\n",
    "                low+=1\n",
    "                high-=1\n",
    "            elif arr[low]+arr[high]<sum:\n",
    "                low+=1\n",
    "            else:\n",
    "                high-=1\n",
    "        if flag:\n",
    "            return -1\n",
    "        else:\n",
    "            return c\n",
    "            "
   ]
  }
 ],
 "metadata": {
  "language_info": {
   "name": "python"
  },
  "orig_nbformat": 4
 },
 "nbformat": 4,
 "nbformat_minor": 2
}
