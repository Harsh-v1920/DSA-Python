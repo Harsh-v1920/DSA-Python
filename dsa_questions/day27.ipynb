{
 "cells": [
  {
   "cell_type": "code",
   "execution_count": 5,
   "metadata": {},
   "outputs": [
    {
     "name": "stdout",
     "output_type": "stream",
     "text": [
      "{'f': 1, 'o': 1, 'r': 1}\n"
     ]
    },
    {
     "data": {
      "text/plain": [
       "3"
      ]
     },
     "execution_count": 5,
     "metadata": {},
     "output_type": "execute_result"
    }
   ],
   "source": [
    "def search(pat, txt):\n",
    "    # code here\n",
    "    s=txt\n",
    "    k=len(pat)\n",
    "    hashmap={}\n",
    "    count=0\n",
    "    for key in pat:\n",
    "        if key not in hashmap:\n",
    "            hashmap[key]=1\n",
    "            count+=1\n",
    "        else:\n",
    "            hashmap[key]+=1\n",
    "    # print(hashmap)\n",
    "    i,j,ans=0,0,0\n",
    "    while j<len(txt):\n",
    "        #Calculation\n",
    "        if s[j] in hashmap:\n",
    "            hashmap[s[j]]-=1\n",
    "            if hashmap[s[j]]==0:\n",
    "                count-=1\n",
    "        if j-i+1<k:\n",
    "            j+=1\n",
    "        elif j-i+1==k:\n",
    "            #ans\n",
    "            if count==0:\n",
    "                ans+=1\n",
    "            #sliding\n",
    "            if s[i] in hashmap: \n",
    "                hashmap[s[i]]+=1\n",
    "                if hashmap[s[i]]==1:\n",
    "                    count+=1\n",
    "            i+=1\n",
    "            j+=1\n",
    "    return ans\n",
    "search('for','forxxorfxdofr')    \n",
    "\n"
   ]
  }
 ],
 "metadata": {
  "kernelspec": {
   "display_name": "Python 3.10.5 64-bit",
   "language": "python",
   "name": "python3"
  },
  "language_info": {
   "codemirror_mode": {
    "name": "ipython",
    "version": 3
   },
   "file_extension": ".py",
   "mimetype": "text/x-python",
   "name": "python",
   "nbconvert_exporter": "python",
   "pygments_lexer": "ipython3",
   "version": "3.10.5"
  },
  "orig_nbformat": 4,
  "vscode": {
   "interpreter": {
    "hash": "9781c75f8ebb8db568c34abc6fa56aff5b950f24b8cfd6fe8af6829c67f4ac57"
   }
  }
 },
 "nbformat": 4,
 "nbformat_minor": 2
}
