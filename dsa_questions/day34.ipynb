{
 "cells": [
  {
   "cell_type": "code",
   "execution_count": null,
   "metadata": {},
   "outputs": [],
   "source": [
    "#4 Sum\n",
    "#Leetcode\n",
    "class Solution:\n",
    "    def fourSum(self, arr, k):\n",
    "        # code here\n",
    "        arr.sort()\n",
    "        hashmap={}\n",
    "        ans=[]\n",
    "        for i in range(len(arr)):\n",
    "            hashmap[arr[i]]=i\n",
    "        for i in range(len(arr)-2):\n",
    "            if i>0 and arr[i]==arr[i-1]:\n",
    "                    continue\n",
    "            for j in range(i+1,len(arr)-1):\n",
    "                if j>i+1 and arr[j]==arr[j-1]:\n",
    "                    continue\n",
    "                for z in range(j+1,len(arr)):\n",
    "                    if z>j+1 and arr[z]==arr[z-1]:\n",
    "                        continue\n",
    "                    target=k-arr[i]-arr[j]-arr[z]\n",
    "                    if target in hashmap and hashmap[target]>z:\n",
    "                        ans.append([arr[i],arr[j],arr[z],target])\n",
    "                \n",
    "        return ans"
   ]
  },
  {
   "cell_type": "code",
   "execution_count": null,
   "metadata": {},
   "outputs": [],
   "source": [
    "#best time to buy and sell the stock\n",
    "#Leetcode\n",
    "class Solution:\n",
    "    def maxProfit(self, prices: List[int]) -> int:\n",
    "        profit=0\n",
    "        value=10000\n",
    "        for i in range(len(prices)):\n",
    "            value=min(value,prices[i])\n",
    "            temp=prices[i]-value\n",
    "            profit=max(profit,temp)\n",
    "        return profit"
   ]
  }
 ],
 "metadata": {
  "language_info": {
   "name": "python"
  },
  "orig_nbformat": 4
 },
 "nbformat": 4,
 "nbformat_minor": 2
}
