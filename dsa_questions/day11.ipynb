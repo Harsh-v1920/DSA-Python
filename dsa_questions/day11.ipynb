{
 "cells": [
  {
   "cell_type": "code",
   "execution_count": null,
   "metadata": {},
   "outputs": [],
   "source": [
    "#Day11 Linear search\n",
    "#Geeks for Geeks\n",
    "\n",
    "\n",
    "class Solution:\n",
    "\n",
    "\t\n",
    "\tdef search(self,arr, n, k): \n",
    "    \t# code here\n",
    "        for i in range(n):\n",
    "            if arr[i]==k:\n",
    "                return i+1\n",
    "        return -1"
   ]
  }
 ],
 "metadata": {
  "language_info": {
   "name": "python"
  },
  "orig_nbformat": 4
 },
 "nbformat": 4,
 "nbformat_minor": 2
}
