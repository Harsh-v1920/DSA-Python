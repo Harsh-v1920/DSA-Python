{
 "cells": [
  {
   "cell_type": "code",
   "execution_count": null,
   "metadata": {},
   "outputs": [],
   "source": [
    "#Sum of n terms\n",
    "#Geeks for geeks\n",
    "\n",
    "\n",
    "class Solution:\n",
    "\n",
    "\t\n",
    "\tdef seriesSum(self,n):\n",
    "\t    # code here\n",
    "        return n*(n+1)//2\n"
   ]
  },
  {
   "cell_type": "code",
   "execution_count": null,
   "metadata": {},
   "outputs": [],
   "source": [
    "#Sum of array\n",
    "#Geeks for Geeks\n",
    "\n",
    "class Solution:\n",
    "\n",
    "\tdef _sum(self,arr, n):\n",
    "   \t\t# code here\n",
    "\n",
    "        s=0\n",
    "        for i in arr:\n",
    "            s+=i\n",
    "        return s\n"
   ]
  }
 ],
 "metadata": {
  "language_info": {
   "name": "python"
  },
  "orig_nbformat": 4
 },
 "nbformat": 4,
 "nbformat_minor": 2
}
