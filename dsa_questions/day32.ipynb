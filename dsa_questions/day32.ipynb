{
 "cells": [
  {
   "cell_type": "code",
   "execution_count": null,
   "metadata": {},
   "outputs": [],
   "source": [
    "#Longest substring with K unique characters\n",
    "#Geeks for Geeks\n",
    "\n",
    "class Solution:\n",
    "\n",
    "    def longestKSubstr(self, s, k):\n",
    "        # code here\n",
    "        i=0\n",
    "        j=0\n",
    "        ans=-1\n",
    "        hashmap={}\n",
    "        while j<len(s):\n",
    "            #calculation\n",
    "            if s[j] not in hashmap:\n",
    "                hashmap[s[j]]=1\n",
    "            else:\n",
    "                hashmap[s[j]]+=1\n",
    "            if len(hashmap)<k:\n",
    "                j+=1\n",
    "            elif len(hashmap)==k:\n",
    "                ans=max(ans,j-i+1)\n",
    "                j+=1\n",
    "            elif len(hashmap)>k:\n",
    "                while len(hashmap)>k:\n",
    "                    hashmap[s[i]]-=1\n",
    "                    if hashmap[s[i]]==0:\n",
    "                        del hashmap[s[i]]\n",
    "                    i+=1\n",
    "                j+=1\n",
    "                "
   ]
  },
  {
   "cell_type": "code",
   "execution_count": null,
   "metadata": {},
   "outputs": [],
   "source": [
    "#Contains Duplicate\n",
    "#Geeks for Geeks\n",
    "\n",
    "class Solution:\n",
    "    def containsDuplicate(self, nums: List[int]) -> bool:\n",
    "        hashmap={}\n",
    "        for i in nums:\n",
    "            if i not in hashmap:\n",
    "                hashmap[i]=1\n",
    "            else:\n",
    "                return True\n",
    "        return False"
   ]
  },
  {
   "cell_type": "code",
   "execution_count": null,
   "metadata": {},
   "outputs": [],
   "source": [
    "#Next Permutation\n",
    "\n",
    "class Solution:\n",
    "    def nextPermutation(self, nums: List[int]) -> None:\n",
    "        \"\"\"\n",
    "        Do not return anything, modify nums in-place instead.\n",
    "        \"\"\"\n",
    "        k=len(nums)\n",
    "        i=k-2\n",
    "        ind1=-1\n",
    "        while i>=0:\n",
    "            if nums[i]<nums[i+1]:\n",
    "                ind1=i\n",
    "                break\n",
    "            i-=1\n",
    "        if ind1==-1:\n",
    "            nums.sort()\n",
    "            return nums\n",
    "        ind2=k-1\n",
    "        while nums[ind2]<=nums[ind1]:\n",
    "            ind2-=1\n",
    "        nums[ind1],nums[ind2]=nums[ind2],nums[ind1]\n",
    "        i=ind1+1\n",
    "        j=k-1\n",
    "        while i<=j:\n",
    "            nums[i],nums[j]=nums[j],nums[i]\n",
    "            i+=1\n",
    "            j-=1\n",
    "        return nums"
   ]
  }
 ],
 "metadata": {
  "language_info": {
   "name": "python"
  },
  "orig_nbformat": 4
 },
 "nbformat": 4,
 "nbformat_minor": 2
}
