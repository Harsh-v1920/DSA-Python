{
 "cells": [
  {
   "cell_type": "code",
   "execution_count": null,
   "metadata": {},
   "outputs": [],
   "source": [
    "#Function to remove duplicates from sorted linked list.\n",
    "def removeDuplicates(head):\n",
    "    #code here\n",
    "    i=head\n",
    "    j=i.next\n",
    "    while i.next is not None:\n",
    "        if j!=None and i.data==j.data:\n",
    "            j=j.next\n",
    "        elif j==None:\n",
    "            i.next=None\n",
    "        else:\n",
    "            i.next=j\n",
    "            i=j\n",
    "            j=j.next\n",
    "    return head\n"
   ]
  },
  {
   "cell_type": "code",
   "execution_count": null,
   "metadata": {},
   "outputs": [],
   "source": [
    "class Solution:\n",
    "    def reverse(self, x: int) -> int:\n",
    "        t=str(x)\n",
    "        t1=t[::-1]\n",
    "        if t1[-1]=='-':\n",
    "            t2='-'+t1[0:len(t1)-1:1]\n",
    "            if int(t2)>2147483647 or int(t2)<-2147483648:\n",
    "                return 0\n",
    "            return int(t2)\n",
    "        if int(t1)>2147483647 or int(t1)<-2147483648:\n",
    "            return 0\n",
    "        return int(t1)\n",
    "        "
   ]
  }
 ],
 "metadata": {
  "language_info": {
   "name": "python"
  },
  "orig_nbformat": 4
 },
 "nbformat": 4,
 "nbformat_minor": 2
}
