{
 "cells": [
  {
   "cell_type": "code",
   "execution_count": null,
   "metadata": {},
   "outputs": [],
   "source": [
    "def findTwoElement( self,arr, n): \n",
    "        # code here\n",
    "        A=arr\n",
    "        lst=list(A)\n",
    "        lst.sort()\n",
    "        # print(lst)\n",
    "        s=set(lst[::1])\n",
    "        # print(s)\n",
    "        t=sum(s)\n",
    "        n=len(lst)\n",
    "        t1=n*(n+1)//2\n",
    "        ans=abs(t1-t)\n",
    "        for i in range(n):\n",
    "            if i>0 and lst[i]==lst[i-1]:\n",
    "                return [lst[i],ans]"
   ]
  }
 ],
 "metadata": {
  "language_info": {
   "name": "python"
  },
  "orig_nbformat": 4
 },
 "nbformat": 4,
 "nbformat_minor": 2
}
