{
 "cells": [
  {
   "cell_type": "code",
   "execution_count": null,
   "metadata": {},
   "outputs": [],
   "source": [
    "# Day 13 Occurance of 1\n",
    "# Geeks for geeks\n",
    "\n",
    "class Solution:\n",
    "    def lastIndex(self, s):\n",
    "        # code here\n",
    "        for i in range(-1,-(len(s)+1),-1):\n",
    "            if s[i]=='1':\n",
    "                return len(s)+i\n",
    "        return -1\n",
    "            \n",
    "        "
   ]
  }
 ],
 "metadata": {
  "language_info": {
   "name": "python"
  },
  "orig_nbformat": 4
 },
 "nbformat": 4,
 "nbformat_minor": 2
}
