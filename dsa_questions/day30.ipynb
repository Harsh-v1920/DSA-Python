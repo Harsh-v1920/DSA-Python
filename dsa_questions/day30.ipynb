{
 "cells": [
  {
   "cell_type": "code",
   "execution_count": null,
   "metadata": {},
   "outputs": [],
   "source": [
    "#Print Elements of linked list\n",
    "#geeks for geeks\n",
    "class Solution:\n",
    "    def display(self,node):\n",
    "        #code here\n",
    "        i=node \n",
    "        while i!=None:\n",
    "            print(i.data,end=\" \")\n",
    "            i=i.next\n",
    "\n"
   ]
  },
  {
   "cell_type": "code",
   "execution_count": null,
   "metadata": {},
   "outputs": [],
   "source": [
    "#Check if circular linked list\n",
    "def isCircular(head):\n",
    "    # Code here\n",
    "    i=head\n",
    "    flag=True\n",
    "    while i!=None:\n",
    "        if i.next==head:\n",
    "            flag=False\n",
    "            break\n",
    "        i=i.next\n",
    "    if flag:\n",
    "        return 0\n",
    "    else:\n",
    "        return 1"
   ]
  },
  {
   "cell_type": "code",
   "execution_count": null,
   "metadata": {},
   "outputs": [],
   "source": [
    "#Node at a given index in linked list\n",
    "def getNth(head, k):\n",
    "    # Code here\n",
    "    i=head\n",
    "    count=1\n",
    "    while i!=None:\n",
    "        if count==k:\n",
    "            return i.data\n",
    "        count+=1\n",
    "        i=i.next"
   ]
  },
  {
   "cell_type": "code",
   "execution_count": null,
   "metadata": {},
   "outputs": [],
   "source": [
    "#Identical Linked list\n",
    "def areIdentical(head1, head2):\n",
    "    # Code here\n",
    "    i=head1\n",
    "    j=head2\n",
    "    while i!=None and j!=None:\n",
    "        if i.data != j.data:\n",
    "            return False\n",
    "        if (i.next!=None and j.next==None) or (i.next==None and j.next!=None):\n",
    "            return False\n",
    "        i=i.next\n",
    "        j=j.next\n",
    "    return True\n",
    "\n"
   ]
  },
  {
   "cell_type": "code",
   "execution_count": null,
   "metadata": {},
   "outputs": [],
   "source": [
    "#Insert in Middle of linked list\n",
    "def insertInMid(head,node):\n",
    "    #code here\n",
    "    i=head\n",
    "    count=0\n",
    "    while i.next!=None:\n",
    "        count+=1\n",
    "        i=i.next\n",
    "    position=count//2\n",
    "    i=head\n",
    "    temp=0\n",
    "    while temp<position:\n",
    "        temp+=1\n",
    "        i=i.next\n",
    "    j=i.next\n",
    "    i.next=node\n",
    "    node.next=j"
   ]
  },
  {
   "cell_type": "code",
   "execution_count": null,
   "metadata": {},
   "outputs": [],
   "source": [
    "#Linked list lenght even or odd\n",
    "def isLengthEvenOrOdd(head):\n",
    "    # Code here\n",
    "    i=head\n",
    "    count=1\n",
    "    while i.next!=None:\n",
    "        count+=1\n",
    "        i=i.next\n",
    "    if count%2==0:\n",
    "        return 0\n",
    "    else:\n",
    "        return 1\n"
   ]
  }
 ],
 "metadata": {
  "language_info": {
   "name": "python"
  },
  "orig_nbformat": 4
 },
 "nbformat": 4,
 "nbformat_minor": 2
}
