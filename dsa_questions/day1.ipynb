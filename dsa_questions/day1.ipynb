{
 "cells": [
  {
   "cell_type": "code",
   "execution_count": null,
   "metadata": {},
   "outputs": [],
   "source": [
    "# Day 1 Problem - Sum of Minimum and the maximum elements of list\n",
    "# * * Problem -> Geeks for Geeks \n",
    "\n",
    "class Solution:\n",
    "    def findSum(self,A,N): \n",
    "        #code here\n",
    "        max=A[0]\n",
    "        min=A[0]\n",
    "        for i in range(n):\n",
    "            if A[i]>max:\n",
    "                max=A[i]\n",
    "            if A[i]<min:\n",
    "                min=A[i]\n",
    "        return (min+max)\n"
   ]
  },
  {
   "cell_type": "code",
   "execution_count": null,
   "metadata": {},
   "outputs": [],
   "source": [
    "# Problem -> Reverse an array \n",
    "# Geeks for Geeks\n",
    "\n",
    "def reverseWord(s):\n",
    "    #your code here\n",
    "    s1=''\n",
    "    for i in range(-1,-len(s)-1,-1):\n",
    "        s1+=s[i]\n",
    "    return s1"
   ]
  },
  {
   "cell_type": "code",
   "execution_count": null,
   "metadata": {},
   "outputs": [],
   "source": [
    "# Problem -> Maximum Subarray\n",
    "# Leetcode\n",
    "\n",
    "class Solution:\n",
    "    def maxSubArray(self, nums: List[int]) -> int:\n",
    "        #Using Kadane's Alogorithm \n",
    "        currSum=0\n",
    "        maxSum=-10000\n",
    "        for i in range(len(nums)):\n",
    "            currSum+=nums[i]\n",
    "            if currSum>maxSum:\n",
    "                maxSum=currSum\n",
    "            if currSum<0:\n",
    "                currSum=0\n",
    "        return maxSum"
   ]
  },
  {
   "cell_type": "code",
   "execution_count": null,
   "metadata": {},
   "outputs": [],
   "source": [
    "#Problem -> Contains Duplicate\n",
    "#Leetcode\n",
    "\n",
    "class Solution:\n",
    "    def containsDuplicate(self, nums: List[int]) -> bool:\n",
    "        nums.sort()\n",
    "        for i in range(len(nums)-1):\n",
    "            if nums[i]==nums[i+1]:\n",
    "                return True\n",
    "        return False"
   ]
  },
  {
   "cell_type": "code",
   "execution_count": null,
   "metadata": {},
   "outputs": [],
   "source": [
    "#Problem -> Chocolate Distribution Problem\n",
    "#Geeks For Geekss\n",
    "\n",
    "class Solution:\n",
    "\n",
    "    def findMinDiff(self, A,N,M):\n",
    "        A.sort()\n",
    "        min=100000\n",
    "        i=0\n",
    "        while(i+M-1)<N:\n",
    "            d=A[i+M-1]-A[i]\n",
    "            if d<min:\n",
    "                min=d\n",
    "            i+=1\n",
    "        return min"
   ]
  }
 ],
 "metadata": {
  "language_info": {
   "name": "python"
  },
  "orig_nbformat": 4
 },
 "nbformat": 4,
 "nbformat_minor": 2
}
