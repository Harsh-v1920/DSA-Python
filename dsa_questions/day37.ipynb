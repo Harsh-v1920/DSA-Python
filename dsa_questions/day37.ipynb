{
 "cells": [
  {
   "cell_type": "code",
   "execution_count": null,
   "metadata": {},
   "outputs": [],
   "source": [
    "def find(arr,n,x):\n",
    "    # code here\n",
    "    ans=[]\n",
    "    for i in range(n):\n",
    "        if arr[i]==x:\n",
    "            ans.append(i)\n",
    "        if arr[i]>x:\n",
    "            break\n",
    "    if len(ans)>0:\n",
    "        t=[ans[0],ans[-1]]\n",
    "    else:\n",
    "        t=[-1,-1]\n",
    "    return t\n"
   ]
  }
 ],
 "metadata": {
  "language_info": {
   "name": "python"
  },
  "orig_nbformat": 4
 },
 "nbformat": 4,
 "nbformat_minor": 2
}
