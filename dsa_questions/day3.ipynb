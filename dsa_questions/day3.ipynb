{
 "cells": [
  {
   "cell_type": "code",
   "execution_count": null,
   "metadata": {},
   "outputs": [],
   "source": [
    "# Day 3 Problem -> Finding Peak Element of an array\n",
    "# Geeks for Geeks\n",
    "\n",
    "def peakElement(self,arr, n):\n",
    "    # Code here\n",
    "    low =0 \n",
    "    high =n-1\n",
    "    while low<=high:\n",
    "        mid=(low+high)//2\n",
    "        if (mid==0 or arr[mid]>=arr[mid-1]) and (mid==n-1 or arr[mid]>=arr[mid+1]):\n",
    "            return mid\n",
    "        elif arr[mid]<=arr[mid+1]:\n",
    "            low = mid+1\n",
    "        else:\n",
    "            high=mid-1\n",
    "    return -1\n"
   ]
  }
 ],
 "metadata": {
  "language_info": {
   "name": "python"
  },
  "orig_nbformat": 4
 },
 "nbformat": 4,
 "nbformat_minor": 2
}
