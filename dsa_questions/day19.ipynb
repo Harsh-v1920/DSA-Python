{
 "cells": [
  {
   "cell_type": "code",
   "execution_count": null,
   "metadata": {},
   "outputs": [],
   "source": [
    "#Day 19 Maximize value of arr[i]*i\n",
    "#Geeks for geeks\n",
    "\n",
    "class Solution:\n",
    "    def Maximize(self, a, n): \n",
    "        # Complete the function\n",
    "        maxsum=0\n",
    "        a.sort()\n",
    "        for i in range(n):\n",
    "            maxsum+=arr[i]*i\n",
    "        return maxsum%(10**9+7)\n",
    "\n"
   ]
  }
 ],
 "metadata": {
  "language_info": {
   "name": "python"
  },
  "orig_nbformat": 4
 },
 "nbformat": 4,
 "nbformat_minor": 2
}
