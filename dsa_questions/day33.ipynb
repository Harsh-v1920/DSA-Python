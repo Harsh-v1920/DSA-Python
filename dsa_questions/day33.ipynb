{
 "cells": [
  {
   "cell_type": "code",
   "execution_count": null,
   "metadata": {},
   "outputs": [],
   "source": [
    "#3Sum\n",
    "#Geeks for Geeks\n",
    "\n",
    "#User function Template for python3\n",
    "class Solution:\n",
    "     \n",
    "    #Function to find if there exists a triplet in the \n",
    "    #array A[] which sums up to X.\n",
    "    def find3Numbers(self,A, n, X):\n",
    "        # Your Code Here\n",
    "        A.sort()\n",
    "        for i in range(n-2):\n",
    "            if i>0 and A[i]==A[i-1]:\n",
    "                continue\n",
    "            low=i+1\n",
    "            high=n-1\n",
    "            sum=X-A[i]\n",
    "            while low<high:\n",
    "                if A[low]+A[high]==sum:\n",
    "                    return True\n",
    "                elif A[low]+A[high]<sum:\n",
    "                    low+=1\n",
    "                else:\n",
    "                    high-=1\n",
    "        return False "
   ]
  },
  {
   "cell_type": "code",
   "execution_count": null,
   "metadata": {},
   "outputs": [],
   "source": [
    "#2 Sum \n",
    "#LeetCode\n",
    "class Solution:\n",
    "    def twoSum(self, nums: List[int], target: int) -> List[int]:\n",
    "        hashmap={}\n",
    "        lst=[]\n",
    "        for i in range(len(nums)):\n",
    "            hashmap[nums[i]]=i\n",
    "        print(hashmap)\n",
    "        for i in range(len(nums)):\n",
    "            if target-nums[i] in hashmap and hashmap[target-nums[i]]>i:\n",
    "                lst.append(i)\n",
    "                lst.append(hashmap[target-nums[i]])\n",
    "                break\n",
    "        return lst"
   ]
  }
 ],
 "metadata": {
  "language_info": {
   "name": "python"
  },
  "orig_nbformat": 4
 },
 "nbformat": 4,
 "nbformat_minor": 2
}
