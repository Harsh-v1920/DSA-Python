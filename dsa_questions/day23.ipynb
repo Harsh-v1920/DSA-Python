{
 "cells": [
  {
   "cell_type": "code",
   "execution_count": null,
   "metadata": {},
   "outputs": [],
   "source": [
    "#Sliding Window\n",
    "# Problem-1 Maximum sum sub-array of size k\n",
    "\n",
    "\n",
    "#Input\n",
    "arr=[100,200,300,400]\n",
    "k=2\n",
    "#Solution\n",
    "\n",
    "i,j,sum=0,0,0\n",
    "mx=arr[0]\n",
    "while j<len(arr):\n",
    "    sum+=arr[j]\n",
    "    if j-i+1<k:#j-i+1 is used to check the current size of the window\n",
    "        j+=1# Since we are doing repetitive work so we used the above statement\n",
    "    else:\n",
    "        mx=max(mx,sum)\n",
    "        sum-=arr[i]\n",
    "        i+=1\n",
    "        j+=1\n",
    "print(\"The length of maximum subarray :\",mx)\n"
   ]
  },
  {
   "cell_type": "code",
   "execution_count": null,
   "metadata": {},
   "outputs": [],
   "source": [
    "#Sliding Window Problem -2\n",
    "#First Negative Number in Every Window of Size K\n",
    "#Geeks for Geeks\n",
    "def Window_size(arr,k):\n",
    "    i,j=0,0\n",
    "    lst=[]\n",
    "    ans=[]\n",
    "    while j<len(arr):\n",
    "        if arr[j]<0:\n",
    "            lst.append(arr[j])\n",
    "        if j-i+1<k:\n",
    "            j+=1\n",
    "        elif j-i+1==k:\n",
    "            #Calculation Part\n",
    "            if len(lst)==0:\n",
    "                ans.append(0)\n",
    "            else:\n",
    "                ans.append(lst[0])\n",
    "            #Sliding the Window\n",
    "            if len(lst)!=0 and arr[i]==lst[0]:\n",
    "                lst.remove(arr[i])\n",
    "            i+=1\n",
    "            j+=1\n",
    "    return ans\n",
    "\n",
    "arr=[-8,2,3,-6,10]\n",
    "print(Window_size(arr,2))"
   ]
  }
 ],
 "metadata": {
  "language_info": {
   "name": "python"
  },
  "orig_nbformat": 4
 },
 "nbformat": 4,
 "nbformat_minor": 2
}
