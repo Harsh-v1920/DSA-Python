{
 "cells": [
  {
   "cell_type": "code",
   "execution_count": null,
   "metadata": {},
   "outputs": [],
   "source": [
    "#Sliding Window\n",
    "# Problem-1 Maximum sum sub-array of size k\n",
    "\n",
    "\n",
    "#Input\n",
    "arr=[100,200,300,400]\n",
    "k=2\n",
    "#Solution\n",
    "\n",
    "i,j,sum=0,0,0\n",
    "mx=arr[0]\n",
    "while j<len(arr):\n",
    "    sum+=arr[j]\n",
    "    if j-i+1<k:#j-i+1 is used to check the current size of the window\n",
    "        j+=1# Since we are doing repetitive work so we used the above statement\n",
    "    else:\n",
    "        mx=max(mx,sum)\n",
    "        sum-=arr[i]\n",
    "        i+=1\n",
    "        j+=1\n",
    "print(\"The length of maximum subarray :\",mx)\n"
   ]
  }
 ],
 "metadata": {
  "language_info": {
   "name": "python"
  },
  "orig_nbformat": 4
 },
 "nbformat": 4,
 "nbformat_minor": 2
}
