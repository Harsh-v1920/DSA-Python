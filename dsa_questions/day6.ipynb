{
 "cells": [
  {
   "cell_type": "code",
   "execution_count": null,
   "metadata": {},
   "outputs": [],
   "source": [
    "#Check whether two array are equal or not\n",
    "#Geeks for geeks\n",
    "\n",
    "\n",
    "def check(self,A,B,N):\n",
    "    \n",
    "    #return: True or False\n",
    "    A.sort()\n",
    "    B.sort()\n",
    "    if A==B: return True\n",
    "    return False"
   ]
  }
 ],
 "metadata": {
  "language_info": {
   "name": "python"
  },
  "orig_nbformat": 4
 },
 "nbformat": 4,
 "nbformat_minor": 2
}
