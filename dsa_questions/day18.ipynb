{
 "cells": [
  {
   "cell_type": "code",
   "execution_count": null,
   "metadata": {},
   "outputs": [],
   "source": [
    "#Day 18 Find the element that appears once in a sorted array\n",
    "# Geeks for Geeks\n",
    "\n",
    "class Solution:\n",
    "    def findOnce(self,arr : list, n : int):\n",
    "        # Complete this function\n",
    "        hashmap={}\n",
    "        for key in arr:\n",
    "            if key not in hashmap:\n",
    "                hashmap[key]=1\n",
    "            else:\n",
    "                hashmap[key]+=1\n",
    "        for key in arr:\n",
    "            if hashmap[key]==1:\n",
    "                return key\n"
   ]
  },
  {
   "cell_type": "code",
   "execution_count": null,
   "metadata": {},
   "outputs": [],
   "source": [
    "#Elements in a range\n",
    "# Geeks for Geeks\n",
    "\n",
    "class Solution:\n",
    "    def check_elements(self, arr, n, A, B):\n",
    "        # Your code goes here\n",
    "        for i in range(A,B+1):\n",
    "            if i not in arr:\n",
    "                return False\n",
    "        return True\n"
   ]
  }
 ],
 "metadata": {
  "language_info": {
   "name": "python"
  },
  "orig_nbformat": 4
 },
 "nbformat": 4,
 "nbformat_minor": 2
}
