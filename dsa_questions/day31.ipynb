{
 "cells": [
  {
   "cell_type": "code",
   "execution_count": null,
   "metadata": {},
   "outputs": [],
   "source": [
    "#Insertion and deletion in a linked list\n",
    "#Geeks for Geeks \n",
    "\n",
    "class Solution:\n",
    "    #Function to insert a node at the beginning of the linked list.\n",
    "    def insertAtBegining(self,head,x):\n",
    "        # code here \n",
    "        temp=Node(x)\n",
    "        if head is None:\n",
    "            head=temp\n",
    "        else:\n",
    "            i=head\n",
    "            head=temp\n",
    "            head.next=i\n",
    "        return head\n",
    "    \n",
    "    #Function to insert a node at the end of the linked list.\n",
    "    def insertAtEnd(self,head,x):\n",
    "        # code here\n",
    "        temp=Node(x)\n",
    "        if head==None:\n",
    "            head=temp\n",
    "        else:\n",
    "            i=head\n",
    "            while i.next is not None:\n",
    "                i=i.next\n",
    "            i.next=temp\n",
    "        return head"
   ]
  },
  {
   "cell_type": "code",
   "execution_count": null,
   "metadata": {},
   "outputs": [],
   "source": [
    "#Delete alternate nodes from linked list\n",
    "#Geeks for Geeks\n",
    "\n",
    "class Solution: \n",
    "    \n",
    "    \n",
    "    def deleteAlt(self, head):\n",
    "        \n",
    "        #add code here\n",
    "        i=head\n",
    "        j=i.next\n",
    "        while j!=None:\n",
    "            i.next=j.next\n",
    "            j=j.next\n",
    "            if j is not None:\n",
    "                j=j.next\n",
    "            i=i.next"
   ]
  },
  {
   "cell_type": "code",
   "execution_count": null,
   "metadata": {},
   "outputs": [],
   "source": [
    "print(\"Hello world\")"
   ]
  }
 ],
 "metadata": {
  "kernelspec": {
   "display_name": "Python 3.10.6 64-bit",
   "language": "python",
   "name": "python3"
  },
  "language_info": {
   "name": "python",
   "version": "3.10.6"
  },
  "orig_nbformat": 4,
  "vscode": {
   "interpreter": {
    "hash": "9781c75f8ebb8db568c34abc6fa56aff5b950f24b8cfd6fe8af6829c67f4ac57"
   }
  }
 },
 "nbformat": 4,
 "nbformat_minor": 2
}
