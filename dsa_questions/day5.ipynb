{
 "cells": [
  {
   "cell_type": "code",
   "execution_count": null,
   "metadata": {},
   "outputs": [],
   "source": [
    "# Largest number in the array \n",
    "# Geeks for geeks \n",
    "\n",
    "def largest( arr, n):\n",
    "    return max(arr)"
   ]
  },
  {
   "cell_type": "code",
   "execution_count": null,
   "metadata": {},
   "outputs": [],
   "source": [
    "#Reverse an array in groups\n",
    "#Geeks for Geeks\n",
    "\n",
    "\n",
    "def reverseInGroups(self, arr, N, K):\n",
    "    # code here\n",
    "    i = 0\n",
    "        \n",
    "    while(i<N):\n",
    "        \n",
    "        left = i\n",
    "    \n",
    "        # To handle case when k is not\n",
    "        # multiple of n\n",
    "        right = min(i + K - 1, N - 1)\n",
    "    \n",
    "        # Reverse the sub-array [left, right]\n",
    "        while (left < right):\n",
    "                \n",
    "            arr[left], arr[right] = arr[right], arr[left]\n",
    "            left+= 1;\n",
    "            right-=1\n",
    "        i+= K\n",
    "    return arr"
   ]
  }
 ],
 "metadata": {
  "language_info": {
   "name": "python"
  },
  "orig_nbformat": 4
 },
 "nbformat": 4,
 "nbformat_minor": 2
}
