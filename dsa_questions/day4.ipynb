{
 "cells": [
  {
   "cell_type": "code",
   "execution_count": null,
   "metadata": {},
   "outputs": [],
   "source": [
    "#Day- 4 Equilibrium Point\n",
    "#Geeks for geek\n",
    "\n",
    "def equilibriumPoint(self,A, N):\n",
    "    # Your code here\n",
    "    if N==0:\n",
    "        return -1\n",
    "    if N==1:\n",
    "        return 1\n",
    "    if N==2:\n",
    "        return -1\n",
    "    else:\n",
    "        total_sum=sum(A)\n",
    "        s1=0\n",
    "        for i in range(1,N):\n",
    "            s1+=A[i-1]\n",
    "            s2=total_sum-s1-A[i]\n",
    "            if s1==s2:\n",
    "                return i+1\n",
    "        return -1"
   ]
  },
  {
   "cell_type": "code",
   "execution_count": null,
   "metadata": {},
   "outputs": [],
   "source": [
    "#Search an element in array\n",
    "#Geeks for Geeks\n",
    "\n",
    "def search(self,arr, N, X):\n",
    "    #Your code here\n",
    "    for i in range(N):\n",
    "        if arr[i]==X:\n",
    "            return i\n",
    "    return -1"
   ]
  }
 ],
 "metadata": {
  "language_info": {
   "name": "python"
  },
  "orig_nbformat": 4
 },
 "nbformat": 4,
 "nbformat_minor": 2
}
