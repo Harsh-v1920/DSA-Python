{
 "cells": [
  {
   "cell_type": "code",
   "execution_count": null,
   "metadata": {},
   "outputs": [],
   "source": [
    "# Print all the element\n",
    "# Geeks for geeks\n",
    "\n",
    "\n",
    "class Solution:\n",
    "    # Just print the space seperated array elements\n",
    "\tdef printArray(self,arr, n):\n",
    "\t    # code here\n",
    "        for i in arr:\n",
    "            print(i,end=\" \")\n"
   ]
  }
 ],
 "metadata": {
  "language_info": {
   "name": "python"
  },
  "orig_nbformat": 4
 },
 "nbformat": 4,
 "nbformat_minor": 2
}
