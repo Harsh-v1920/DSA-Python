{
 "cells": [
  {
   "cell_type": "code",
   "execution_count": null,
   "metadata": {},
   "outputs": [],
   "source": [
    "#Day 26 At least two greater elements\n",
    "#Geeks for Geeks\n",
    "\n",
    "class Solution:\n",
    "    def findElements(self,a, n):\n",
    "        # Your code goes here\n",
    "        lst=[]\n",
    "        a.sort()\n",
    "        # a=set(a)\n",
    "        for i in range(n-2):\n",
    "            lst.append(a[i])\n",
    "        return lst\n",
    "    \n"
   ]
  }
 ],
 "metadata": {
  "language_info": {
   "name": "python"
  },
  "orig_nbformat": 4
 },
 "nbformat": 4,
 "nbformat_minor": 2
}
