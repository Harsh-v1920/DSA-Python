{
 "cells": [
  {
   "cell_type": "code",
   "execution_count": null,
   "metadata": {},
   "outputs": [],
   "source": [
    "#Problem of the day \n",
    "#gfg\n",
    "class Solution:\n",
    "    def rearrange(self,arr, n):\n",
    "        # code here\n",
    "        positive=[]\n",
    "        negative=[]\n",
    "        p_counter=0\n",
    "        n_counter=0\n",
    "        for i in arr:\n",
    "            if i<0:\n",
    "                negative.append(i)\n",
    "            else:\n",
    "                positive.append(i)\n",
    "        # print(positive)\n",
    "        # print(negative)\n",
    "        for i in range(n):\n",
    "            if (i%2==0 and p_counter<len(positive)) or n_counter>=len(negative):\n",
    "                arr[i]=positive[p_counter]\n",
    "                p_counter+=1\n",
    "            elif (i%2!=0 and n_counter<len(negative)) or p_counter>=len(positive):\n",
    "                arr[i]=negative[n_counter]\n",
    "                n_counter+=1"
   ]
  }
 ],
 "metadata": {
  "language_info": {
   "name": "python"
  },
  "orig_nbformat": 4
 },
 "nbformat": 4,
 "nbformat_minor": 2
}
