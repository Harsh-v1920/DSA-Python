{
 "cells": [
  {
   "cell_type": "code",
   "execution_count": null,
   "metadata": {},
   "outputs": [],
   "source": [
    "#maximum subarray product\n",
    "#Leetcode\n",
    "class Solution:\n",
    "    def maxProduct(self, nums: List[int]) -> int:\n",
    "        ma=1\n",
    "        mi=1\n",
    "        a=nums\n",
    "        ans=-10\n",
    "        for i in range(len(nums)):\n",
    "            ma=max(a[i],ma*a[i])\n",
    "            mi=min(a[i],mi*a[i])\n",
    "            ans=max(ma,ans)\n",
    "            if i<len(nums)-1 and a[i+1]<0:\n",
    "                ma,mi=mi,ma\n",
    "        ans=max(ans,ma)\n",
    "        return ans"
   ]
  },
  {
   "cell_type": "code",
   "execution_count": null,
   "metadata": {},
   "outputs": [],
   "source": [
    "#repeated and missing number in array\n",
    "#Interview Bit\n",
    "class Solution:\n",
    "    # @param A : tuple of integers\n",
    "    # @return a list of integers\n",
    "    def repeatedNumber(self, A):\n",
    "        lst=list(A)\n",
    "        lst.sort()\n",
    "        # print(lst)\n",
    "        s=set(lst[::1])\n",
    "        # print(s)\n",
    "        t=sum(s)\n",
    "        n=len(lst)\n",
    "        t1=n*(n+1)//2\n",
    "        ans=abs(t1-t)\n",
    "        for i in range(n):\n",
    "            if i>0 and lst[i]==lst[i-1]:\n",
    "                return [lst[i],ans]\n",
    "                "
   ]
  },
  {
   "cell_type": "code",
   "execution_count": null,
   "metadata": {},
   "outputs": [],
   "source": [
    "#Kth largest element of the array\n",
    "#Leetcode\n",
    "class Solution:\n",
    "    def findKthLargest(self, nums: List[int], k: int) -> int:\n",
    "        nums.sort()\n",
    "        return nums[-k]"
   ]
  }
 ],
 "metadata": {
  "language_info": {
   "name": "python"
  },
  "orig_nbformat": 4
 },
 "nbformat": 4,
 "nbformat_minor": 2
}
