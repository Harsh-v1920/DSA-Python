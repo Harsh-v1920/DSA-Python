{
 "cells": [
  {
   "cell_type": "code",
   "execution_count": null,
   "metadata": {},
   "outputs": [],
   "source": [
    "#First alphabet of each string\n",
    "#Geeks for geeks\n",
    "\n",
    "\n",
    "class Solution:\n",
    "    def firstAlphabet(self, S):\n",
    "        # code here\n",
    "        lst=[i for i in S.split()]\n",
    "        t=\"\"\n",
    "        for i in lst:\n",
    "            t+=i[0]\n",
    "        return t\n",
    "            "
   ]
  }
 ],
 "metadata": {
  "language_info": {
   "name": "python"
  },
  "orig_nbformat": 4
 },
 "nbformat": 4,
 "nbformat_minor": 2
}
