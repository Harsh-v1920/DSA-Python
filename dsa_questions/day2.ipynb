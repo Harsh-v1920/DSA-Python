{
 "cells": [
  {
   "cell_type": "code",
   "execution_count": null,
   "metadata": {},
   "outputs": [],
   "source": [
    "#Day 2\n",
    "# Problem -> Search for an element in a sorted rotated array\n",
    "# Geeks for Geeks\n",
    "\n",
    "class Solution:\n",
    "    def search(self, A : list, l : int, h : int, key : int):\n",
    "        # l: The starting index\n",
    "        # h: The ending index, you have to search the key in this range\n",
    "        # Complete this function\n",
    "        while(l<=h):\n",
    "            mid=(l+h)//2\n",
    "            if A[mid]==key:\n",
    "                return mid\n",
    "            if A[l]<=A[mid]:\n",
    "                if key>=A[l] and key<=A[mid]:\n",
    "                    h=mid-1\n",
    "                else:\n",
    "                    l=mid+1\n",
    "            else:\n",
    "                if key>=A[mid] and key<=A[h]:\n",
    "                    l=mid+1\n",
    "                else:\n",
    "                    h=mid-1\n",
    "        return -1\n",
    "                "
   ]
  }
 ],
 "metadata": {
  "kernelspec": {
   "display_name": "Python 3.10.5 64-bit",
   "language": "python",
   "name": "python3"
  },
  "language_info": {
   "codemirror_mode": {
    "name": "ipython",
    "version": 3
   },
   "file_extension": ".py",
   "mimetype": "text/x-python",
   "name": "python",
   "nbconvert_exporter": "python",
   "pygments_lexer": "ipython3",
   "version": "3.10.5"
  },
  "orig_nbformat": 4,
  "vscode": {
   "interpreter": {
    "hash": "9781c75f8ebb8db568c34abc6fa56aff5b950f24b8cfd6fe8af6829c67f4ac57"
   }
  }
 },
 "nbformat": 4,
 "nbformat_minor": 2
}
