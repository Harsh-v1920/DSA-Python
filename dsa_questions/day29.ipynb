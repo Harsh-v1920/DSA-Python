{
 "cells": [
  {
   "cell_type": "code",
   "execution_count": null,
   "metadata": {},
   "outputs": [],
   "source": [
    "#Day 29 Problems\n",
    "#Geeks for geeks\n",
    "\n",
    "\n",
    "class LinkedList:\n",
    "    def __init__(self):\n",
    "        self.head=None\n",
    "        self.tail=None\n",
    "        \n",
    "class Solution:\n",
    "    \n",
    "    #Function to count nodes of a linked list.\n",
    "    def getCount(self, head_node):\n",
    "        #code here\n",
    "        count=0\n",
    "        i=head_node\n",
    "        while i!=None:\n",
    "            i=i.next\n",
    "            count+=1\n",
    "        return count\n"
   ]
  }
 ],
 "metadata": {
  "language_info": {
   "name": "python"
  },
  "orig_nbformat": 4
 },
 "nbformat": 4,
 "nbformat_minor": 2
}
