{
 "cells": [
  {
   "cell_type": "code",
   "execution_count": null,
   "metadata": {},
   "outputs": [],
   "source": [
    "#Day 14 Find the majority element from the array\n",
    "# Geeks for geeks\n",
    "\n",
    "\n",
    "class Solution:\n",
    "    def majorityElement(self, A, N):\n",
    "        #Your code here\n",
    "        hashmap={}\n",
    "        for key in A:\n",
    "            if key not in hashmap:\n",
    "                hashmap[key]=1\n",
    "            else:\n",
    "                hashmap[key]+=1\n",
    "        \n",
    "        for key in A:\n",
    "            if hashmap[key]>N//2:\n",
    "                return key\n",
    "        return -1"
   ]
  }
 ],
 "metadata": {
  "language_info": {
   "name": "python"
  },
  "orig_nbformat": 4
 },
 "nbformat": 4,
 "nbformat_minor": 2
}
