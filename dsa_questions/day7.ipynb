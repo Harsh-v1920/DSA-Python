{
 "cells": [
  {
   "cell_type": "code",
   "execution_count": null,
   "metadata": {},
   "outputs": [],
   "source": [
    "#DAY 7 Count Pair with given sum\n",
    "# Geeks for Geeks\n",
    "\n",
    "\n",
    "class Solution:\n",
    "    def getPairsCount(self, arr, n, k):\n",
    "        # code here\n",
    "        unordered_map = {}\n",
    "        count = 0\n",
    "        sum=k\n",
    "        for i in range(n):\n",
    "            if sum - arr[i] in unordered_map:\n",
    "                count += unordered_map[sum - arr[i]]\n",
    "            if arr[i] in unordered_map:\n",
    "                unordered_map[arr[i]] += 1\n",
    "            else:\n",
    "                unordered_map[arr[i]] = 1\n",
    "        return count"
   ]
  }
 ],
 "metadata": {
  "language_info": {
   "name": "python"
  },
  "orig_nbformat": 4
 },
 "nbformat": 4,
 "nbformat_minor": 2
}
