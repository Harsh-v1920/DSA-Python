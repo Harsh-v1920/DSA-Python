{
 "cells": [
  {
   "cell_type": "code",
   "execution_count": null,
   "metadata": {},
   "outputs": [],
   "source": [
    "#DAY 7 Count Pair with given sum\n",
    "# Geeks for Geeks\n",
    "\n",
    "\n",
    "class Solution:\n",
    "    def getPairsCount(self, arr, n, k):\n",
    "        # code here\n",
    "        unordered_map = {}\n",
    "        count = 0\n",
    "        sum=k\n",
    "        for i in range(n):\n",
    "            if sum - arr[i] in unordered_map:\n",
    "                count += unordered_map[sum - arr[i]]\n",
    "            if arr[i] in unordered_map:\n",
    "                unordered_map[arr[i]] += 1\n",
    "            else:\n",
    "                unordered_map[arr[i]] = 1\n",
    "        return count"
   ]
  }
 ],
 "metadata": {
  "kernelspec": {
   "display_name": "Python 3.10.5 64-bit",
   "language": "python",
   "name": "python3"
  },
  "language_info": {
   "name": "python",
   "version": "3.10.5"
  },
  "orig_nbformat": 4,
  "vscode": {
   "interpreter": {
    "hash": "9781c75f8ebb8db568c34abc6fa56aff5b950f24b8cfd6fe8af6829c67f4ac57"
   }
  }
 },
 "nbformat": 4,
 "nbformat_minor": 2
}
